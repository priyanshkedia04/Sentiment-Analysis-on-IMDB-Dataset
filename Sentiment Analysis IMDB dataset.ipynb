{
 "cells": [
  {
   "cell_type": "code",
   "execution_count": 1,
   "metadata": {},
   "outputs": [],
   "source": [
    "import tensorflow as tf\n",
    "import numpy as np"
   ]
  },
  {
   "cell_type": "markdown",
   "metadata": {},
   "source": [
    "# The IMDB Review Dataset"
   ]
  },
  {
   "cell_type": "code",
   "execution_count": 2,
   "metadata": {},
   "outputs": [],
   "source": [
    "from tensorflow.keras.datasets import imdb"
   ]
  },
  {
   "cell_type": "code",
   "execution_count": 3,
   "metadata": {},
   "outputs": [],
   "source": [
    "(x_train,y_train),(x_test,y_test)=imdb.load_data(num_words=10000)"
   ]
  },
  {
   "cell_type": "code",
   "execution_count": 4,
   "metadata": {},
   "outputs": [
    {
     "name": "stdout",
     "output_type": "stream",
     "text": [
      "(25000,)\n",
      "(25000,)\n",
      "(25000,)\n",
      "(25000,)\n"
     ]
    }
   ],
   "source": [
    "print(x_train.shape)\n",
    "print(y_train.shape)\n",
    "print(x_test.shape)\n",
    "print(y_test.shape)"
   ]
  },
  {
   "cell_type": "code",
   "execution_count": 5,
   "metadata": {},
   "outputs": [
    {
     "name": "stdout",
     "output_type": "stream",
     "text": [
      "[1, 14, 22, 16, 43, 530, 973, 1622, 1385, 65, 458, 4468, 66, 3941, 4, 173, 36, 256, 5, 25, 100, 43, 838, 112, 50, 670, 2, 9, 35, 480, 284, 5, 150, 4, 172, 112, 167, 2, 336, 385, 39, 4, 172, 4536, 1111, 17, 546, 38, 13, 447, 4, 192, 50, 16, 6, 147, 2025, 19, 14, 22, 4, 1920, 4613, 469, 4, 22, 71, 87, 12, 16, 43, 530, 38, 76, 15, 13, 1247, 4, 22, 17, 515, 17, 12, 16, 626, 18, 2, 5, 62, 386, 12, 8, 316, 8, 106, 5, 4, 2223, 5244, 16, 480, 66, 3785, 33, 4, 130, 12, 16, 38, 619, 5, 25, 124, 51, 36, 135, 48, 25, 1415, 33, 6, 22, 12, 215, 28, 77, 52, 5, 14, 407, 16, 82, 2, 8, 4, 107, 117, 5952, 15, 256, 4, 2, 7, 3766, 5, 723, 36, 71, 43, 530, 476, 26, 400, 317, 46, 7, 4, 2, 1029, 13, 104, 88, 4, 381, 15, 297, 98, 32, 2071, 56, 26, 141, 6, 194, 7486, 18, 4, 226, 22, 21, 134, 476, 26, 480, 5, 144, 30, 5535, 18, 51, 36, 28, 224, 92, 25, 104, 4, 226, 65, 16, 38, 1334, 88, 12, 16, 283, 5, 16, 4472, 113, 103, 32, 15, 16, 5345, 19, 178, 32]\n",
      "[1 0 0 1 0 0 1 0 1 0]\n"
     ]
    }
   ],
   "source": [
    "print(x_train[0])\n",
    "print(y_train[:10])"
   ]
  },
  {
   "cell_type": "code",
   "execution_count": 32,
   "metadata": {},
   "outputs": [],
   "source": [
    "class_names=['Negative','Positive']\n"
   ]
  },
  {
   "cell_type": "code",
   "execution_count": 7,
   "metadata": {},
   "outputs": [],
   "source": [
    "word_index=imdb.get_word_index()"
   ]
  },
  {
   "cell_type": "code",
   "execution_count": 8,
   "metadata": {},
   "outputs": [
    {
     "data": {
      "text/plain": [
       "[('dnd', 40844),\n",
       " ('dna', 11586),\n",
       " ('insecurity', 20598),\n",
       " (\"'reboot'\", 52047),\n",
       " ('trelkovsky', 11037),\n",
       " ('jaekel', 52048),\n",
       " ('sidebars', 52049),\n",
       " (\"sforza's\", 52050),\n",
       " ('distortions', 17633),\n",
       " ('mutinies', 52051),\n",
       " ('sermons', 30602),\n",
       " ('7ft', 40846),\n",
       " ('boobage', 52052),\n",
       " (\"o'bannon's\", 52053),\n",
       " ('populations', 23380),\n",
       " ('chulak', 52054),\n",
       " ('mesmerize', 27633),\n",
       " ('quinnell', 52055),\n",
       " ('yahoo', 10307),\n",
       " ('meteorologist', 52057)]"
      ]
     },
     "execution_count": 8,
     "metadata": {},
     "output_type": "execute_result"
    }
   ],
   "source": [
    "list(word_index.items())[100:120]"
   ]
  },
  {
   "cell_type": "markdown",
   "metadata": {},
   "source": [
    "# Decoding the Reviews"
   ]
  },
  {
   "cell_type": "code",
   "execution_count": 9,
   "metadata": {},
   "outputs": [
    {
     "data": {
      "text/plain": [
       "[(40844, 'dnd'),\n",
       " (11586, 'dna'),\n",
       " (20598, 'insecurity'),\n",
       " (52047, \"'reboot'\"),\n",
       " (11037, 'trelkovsky'),\n",
       " (52048, 'jaekel'),\n",
       " (52049, 'sidebars'),\n",
       " (52050, \"sforza's\"),\n",
       " (17633, 'distortions'),\n",
       " (52051, 'mutinies'),\n",
       " (30602, 'sermons'),\n",
       " (40846, '7ft'),\n",
       " (52052, 'boobage'),\n",
       " (52053, \"o'bannon's\"),\n",
       " (23380, 'populations'),\n",
       " (52054, 'chulak'),\n",
       " (27633, 'mesmerize'),\n",
       " (52055, 'quinnell'),\n",
       " (10307, 'yahoo'),\n",
       " (52057, 'meteorologist')]"
      ]
     },
     "execution_count": 9,
     "metadata": {},
     "output_type": "execute_result"
    }
   ],
   "source": [
    "reverse_word_index=dict((value,key) for key , value in word_index.items())\n",
    "list(reverse_word_index.items())[100:120]"
   ]
  },
  {
   "cell_type": "code",
   "execution_count": 10,
   "metadata": {},
   "outputs": [],
   "source": [
    "def decode(review):\n",
    "    array=[]\n",
    "    for i in review:\n",
    "        array.append(reverse_word_index[i])\n",
    "    text=\" \".join(array)\n",
    "    print(text)"
   ]
  },
  {
   "cell_type": "code",
   "execution_count": 11,
   "metadata": {},
   "outputs": [
    {
     "name": "stdout",
     "output_type": "stream",
     "text": [
      "the as you with out themselves powerful lets loves their becomes reaching had journalist of lot from anyone to have after out atmosphere never more room and it so heart shows to years of every never going and help moments or of every chest visual movie except her was several of enough more with is now current film as you of mine potentially unfortunately of you than him that with out themselves her get for was camp of you movie sometimes movie that with scary but and to story wonderful that in seeing in character to of 70s musicians with heart had shadows they of here that with her serious to have does when from why what have critics they is you that isn't one will very to as itself with other and in of seen over landed for anyone of and br show's to whether from than out themselves history he name half some br of and odd was two most of mean for 1 any an boat she he should is thought frog but of script you not while history he heart to real at barrel but when from one bit then have two of script their with her nobody most that with wasn't to with armed acting watch an for with heartfelt film want an\n",
      "\n",
      "Length of text is: 218 \n"
     ]
    }
   ],
   "source": [
    "decode(x_train[0])\n",
    "print(\"\\nLength of text is: {} \".format(len(x_train[0])))"
   ]
  },
  {
   "cell_type": "markdown",
   "metadata": {},
   "source": [
    "# Padding the Data"
   ]
  },
  {
   "cell_type": "code",
   "execution_count": 12,
   "metadata": {},
   "outputs": [
    {
     "name": "stdout",
     "output_type": "stream",
     "text": [
      "Length of first 10 Reviews [218, 189, 141, 550, 147, 43, 123, 562, 233, 130]\n",
      "\n",
      "Maximum Length of a Review is 2494\n",
      "\n",
      "Average Length of a Review is 238.71364\n"
     ]
    }
   ],
   "source": [
    "a=[len(x) for x in x_train]\n",
    "print(\"Length of first 10 Reviews\" ,a[:10])\n",
    "print(\"\\nMaximum Length of a Review is {}\".format(max(a)))\n",
    "print(\"\\nAverage Length of a Review is {}\".format(np.mean(a)))"
   ]
  },
  {
   "cell_type": "code",
   "execution_count": 13,
   "metadata": {},
   "outputs": [],
   "source": [
    "from tensorflow.keras.preprocessing.sequence import pad_sequences"
   ]
  },
  {
   "cell_type": "code",
   "execution_count": 14,
   "metadata": {},
   "outputs": [],
   "source": [
    "x_train=pad_sequences(x_train,maxlen=256,truncating='post',padding='post')\n",
    "x_test=pad_sequences(x_test,maxlen=256,truncating='post',padding='post')"
   ]
  },
  {
   "cell_type": "code",
   "execution_count": 15,
   "metadata": {},
   "outputs": [
    {
     "data": {
      "text/plain": [
       "array([   1,  194, 1153,  194, 8255,   78,  228,    5,    6, 1463, 4369,\n",
       "       5012,  134,   26,    4,  715,    8,  118, 1634,   14,  394,   20,\n",
       "         13,  119,  954,  189,  102,    5,  207,  110, 3103,   21,   14,\n",
       "         69,  188,    8,   30,   23,    7,    4,  249,  126,   93,    4,\n",
       "        114,    9, 2300, 1523,    5,  647,    4,  116,    9,   35, 8163,\n",
       "          4,  229,    9,  340, 1322,    4,  118,    9,    4,  130, 4901,\n",
       "         19,    4, 1002,    5,   89,   29,  952,   46,   37,    4,  455,\n",
       "          9,   45,   43,   38, 1543, 1905,  398,    4, 1649,   26, 6853,\n",
       "          5,  163,   11, 3215,    2,    4, 1153,    9,  194,  775,    7,\n",
       "       8255,    2,  349, 2637,  148,  605,    2, 8003,   15,  123,  125,\n",
       "         68,    2, 6853,   15,  349,  165, 4362,   98,    5,    4,  228,\n",
       "          9,   43,    2, 1157,   15,  299,  120,    5,  120,  174,   11,\n",
       "        220,  175,  136,   50,    9, 4373,  228, 8255,    5,    2,  656,\n",
       "        245, 2350,    5,    4, 9837,  131,  152,  491,   18,    2,   32,\n",
       "       7464, 1212,   14,    9,    6,  371,   78,   22,  625,   64, 1382,\n",
       "          9,    8,  168,  145,   23,    4, 1690,   15,   16,    4, 1355,\n",
       "          5,   28,    6,   52,  154,  462,   33,   89,   78,  285,   16,\n",
       "        145,   95,    0,    0,    0,    0,    0,    0,    0,    0,    0,\n",
       "          0,    0,    0,    0,    0,    0,    0,    0,    0,    0,    0,\n",
       "          0,    0,    0,    0,    0,    0,    0,    0,    0,    0,    0,\n",
       "          0,    0,    0,    0,    0,    0,    0,    0,    0,    0,    0,\n",
       "          0,    0,    0,    0,    0,    0,    0,    0,    0,    0,    0,\n",
       "          0,    0,    0,    0,    0,    0,    0,    0,    0,    0,    0,\n",
       "          0,    0,    0])"
      ]
     },
     "execution_count": 15,
     "metadata": {},
     "output_type": "execute_result"
    }
   ],
   "source": [
    "x_train[1]"
   ]
  },
  {
   "cell_type": "code",
   "execution_count": 16,
   "metadata": {},
   "outputs": [
    {
     "name": "stdout",
     "output_type": "stream",
     "text": [
      "[256, 256, 256, 256, 256, 256, 256, 256, 256, 256]\n"
     ]
    }
   ],
   "source": [
    "a=[len(x) for x in x_train[:10]]\n",
    "print(a)"
   ]
  },
  {
   "cell_type": "markdown",
   "metadata": {},
   "source": [
    "# Word Embeddings and Model Training"
   ]
  },
  {
   "cell_type": "code",
   "execution_count": 17,
   "metadata": {},
   "outputs": [],
   "source": [
    "from tensorflow.keras.models import Sequential\n",
    "from tensorflow.keras.layers import Dense, Embedding, GlobalAveragePooling1D, GRU, Dropout"
   ]
  },
  {
   "cell_type": "code",
   "execution_count": 18,
   "metadata": {},
   "outputs": [
    {
     "name": "stdout",
     "output_type": "stream",
     "text": [
      "Model: \"sequential\"\n",
      "_________________________________________________________________\n",
      "Layer (type)                 Output Shape              Param #   \n",
      "=================================================================\n",
      "embedding (Embedding)        (None, 256, 32)           320000    \n",
      "_________________________________________________________________\n",
      "gru (GRU)                    (None, 32)                6336      \n",
      "_________________________________________________________________\n",
      "dense (Dense)                (None, 32)                1056      \n",
      "_________________________________________________________________\n",
      "dropout (Dropout)            (None, 32)                0         \n",
      "_________________________________________________________________\n",
      "dense_1 (Dense)              (None, 1)                 33        \n",
      "=================================================================\n",
      "Total params: 327,425\n",
      "Trainable params: 327,425\n",
      "Non-trainable params: 0\n",
      "_________________________________________________________________\n",
      "None\n"
     ]
    }
   ],
   "source": [
    "model= Sequential([\n",
    "    Embedding(10000,32,input_length=256),\n",
    "    GRU(32,activation='relu'),\n",
    "    Dense(32),\n",
    "    Dropout(0.3),\n",
    "    Dense(1,activation='sigmoid'),\n",
    "])\n",
    "print(model.summary())"
   ]
  },
  {
   "cell_type": "code",
   "execution_count": 19,
   "metadata": {},
   "outputs": [],
   "source": [
    "model.compile(loss='binary_crossentropy',\n",
    "             optimizer='adam',\n",
    "             metrics=['accuracy'])"
   ]
  },
  {
   "cell_type": "code",
   "execution_count": 20,
   "metadata": {},
   "outputs": [
    {
     "name": "stdout",
     "output_type": "stream",
     "text": [
      "Train on 20000 samples, validate on 5000 samples\n",
      "Epoch 1/10\n",
      "20000/20000 [==============================] - 139s 7ms/sample - loss: 0.6927 - accuracy: 0.5092 - val_loss: 0.6922 - val_accuracy: 0.5142\n",
      "Epoch 2/10\n",
      "20000/20000 [==============================] - 139s 7ms/sample - loss: 0.6820 - accuracy: 0.5500 - val_loss: 0.6895 - val_accuracy: 0.5240\n",
      "Epoch 3/10\n",
      "20000/20000 [==============================] - 140s 7ms/sample - loss: 0.5032 - accuracy: 0.7566 - val_loss: 0.4086 - val_accuracy: 0.8174\n",
      "Epoch 4/10\n",
      "20000/20000 [==============================] - 140s 7ms/sample - loss: 0.3172 - accuracy: 0.8755 - val_loss: 0.3776 - val_accuracy: 0.8516\n",
      "Epoch 5/10\n",
      "20000/20000 [==============================] - 143s 7ms/sample - loss: 0.2407 - accuracy: 0.9121 - val_loss: 0.3707 - val_accuracy: 0.8606\n",
      "Epoch 6/10\n",
      "20000/20000 [==============================] - 148s 7ms/sample - loss: 0.1890 - accuracy: 0.9352 - val_loss: 0.4069 - val_accuracy: 0.8594\n",
      "Epoch 7/10\n",
      "20000/20000 [==============================] - 150s 8ms/sample - loss: 0.1524 - accuracy: 0.9517 - val_loss: 0.4185 - val_accuracy: 0.8596\n",
      "Epoch 8/10\n",
      "20000/20000 [==============================] - 144s 7ms/sample - loss: 0.1182 - accuracy: 0.9664 - val_loss: 0.5512 - val_accuracy: 0.8534\n",
      "Epoch 9/10\n",
      "20000/20000 [==============================] - 150s 7ms/sample - loss: 0.0901 - accuracy: 0.9753 - val_loss: 0.6009 - val_accuracy: 0.8560\n",
      "Epoch 10/10\n",
      "20000/20000 [==============================] - 142s 7ms/sample - loss: 0.0712 - accuracy: 0.9813 - val_loss: 0.6815 - val_accuracy: 0.8552\n"
     ]
    }
   ],
   "source": [
    "history=model.fit(x_train,y_train,\n",
    "          validation_split=0.2,\n",
    "          batch_size=32,\n",
    "          epochs=10)"
   ]
  },
  {
   "cell_type": "code",
   "execution_count": 22,
   "metadata": {},
   "outputs": [
    {
     "data": {
      "text/plain": [
       "[<matplotlib.lines.Line2D at 0x23b7cb6c088>]"
      ]
     },
     "execution_count": 22,
     "metadata": {},
     "output_type": "execute_result"
    },
    {
     "data": {
      "image/png": "[encoded data removed]",
      "text/plain": [
       "<Figure size 432x288 with 1 Axes>"
      ]
     },
     "metadata": {
      "needs_background": "light"
     },
     "output_type": "display_data"
    }
   ],
   "source": [
    "train_acc=history.history['accuracy']\n",
    "val_acc=history.history['val_accuracy']\n",
    "from matplotlib import pyplot as plt\n",
    "plt.plot(range(10),train_acc)\n",
    "plt.plot(range(10),val_acc)"
   ]
  },
  {
   "cell_type": "code",
   "execution_count": 23,
   "metadata": {},
   "outputs": [
    {
     "name": "stdout",
     "output_type": "stream",
     "text": [
      "25000/25000 [==============================] - 32s 1ms/sample - loss: 0.7939 - accuracy: 0.8347\n"
     ]
    }
   ],
   "source": [
    "a=model.evaluate(x_test,y_test)"
   ]
  },
  {
   "cell_type": "code",
   "execution_count": 25,
   "metadata": {},
   "outputs": [
    {
     "name": "stdout",
     "output_type": "stream",
     "text": [
      "Testing Accuracy is 0.8347200155258179\n"
     ]
    }
   ],
   "source": [
    "print(\"Testing Accuracy is {}\".format(a[1]))"
   ]
  },
  {
   "cell_type": "code",
   "execution_count": 40,
   "metadata": {},
   "outputs": [],
   "source": [
    "p=model.predict(x_test[:20])"
   ]
  },
  {
   "cell_type": "code",
   "execution_count": 41,
   "metadata": {},
   "outputs": [],
   "source": [
    "p=[1 if x>0.5 else 0 for x in p]"
   ]
  },
  {
   "cell_type": "code",
   "execution_count": 47,
   "metadata": {},
   "outputs": [
    {
     "name": "stdout",
     "output_type": "stream",
     "text": [
      "[0, 1, 1, 0, 1, 1, 1, 0, 0, 1, 1, 0, 0, 0, 1, 0, 1, 0, 0, 0]\n",
      "[0, 1, 1, 1, 1, 1, 1, 0, 1, 1, 1, 0, 0, 0, 1, 0, 1, 1, 0, 0]\n"
     ]
    }
   ],
   "source": [
    "print(list(y_test[:20]))\n",
    "print(p)"
   ]
  },
  {
   "cell_type": "code",
   "execution_count": null,
   "metadata": {},
   "outputs": [],
   "source": []
  },
  {
   "cell_type": "code",
   "execution_count": null,
   "metadata": {},
   "outputs": [],
   "source": []
  }
 ],
 "metadata": {
  "kernelspec": {
   "display_name": "tensorflow",
   "language": "python",
   "name": "tensorflow"
  },
  "language_info": {
   "codemirror_mode": {
    "name": "ipython",
    "version": 3
   },
   "file_extension": ".py",
   "mimetype": "text/x-python",
   "name": "python",
   "nbconvert_exporter": "python",
   "pygments_lexer": "ipython3",
   "version": "3.7.7"
  }
 },
 "nbformat": 4,
 "nbformat_minor": 4
}
